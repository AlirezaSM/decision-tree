{
 "cells": [
  {
   "cell_type": "code",
   "execution_count": 50,
   "id": "7e8fe266",
   "metadata": {},
   "outputs": [],
   "source": [
    "import graphviz\n",
    "import sys\n",
    "import random\n",
    "import numpy as np\n",
    "import pandas as pd\n",
    "import matplotlib.pyplot as plt\n",
    "\n",
    "from collections import Counter\n",
    "from tqdm import tqdm\n",
    "from sklearn.preprocessing import LabelEncoder\n",
    "from sklearn.model_selection import train_test_split\n",
    "from sklearn.tree import DecisionTreeClassifier, plot_tree\n",
    "from sklearn.metrics import (accuracy_score, precision_score,\n",
    "                             recall_score, f1_score,\n",
    "                             confusion_matrix, ConfusionMatrixDisplay)"
   ]
  },
  {
   "cell_type": "code",
   "execution_count": 6,
   "id": "5ececb52",
   "metadata": {},
   "outputs": [],
   "source": [
    "class Node:\n",
    "    def __init__(self, feature=None, f_value=None, childs=None, label=None, most_common=None):\n",
    "        # best feature to split the node\n",
    "        self.feature = feature\n",
    "        # value of parent's selected feature\n",
    "        self.f_value = f_value\n",
    "        # dictionary of childs\n",
    "        self.childs = childs\n",
    "        # label of the node if it is leaf\n",
    "        self.label = label\n",
    "        # most common label of the node\n",
    "        self.most_common = most_common\n",
    "        \n",
    "    def is_leaf_node(self):\n",
    "        return self.label is not None\n",
    "    \n",
    "    def plot_node(self, figure, column_labels, parent=None):\n",
    "        if self.childs is not None:\n",
    "            for key in self.childs:\n",
    "                if not self.childs[key].is_leaf_node():\n",
    "                    figure.edge(str(column_labels[self.feature]), str(column_labels[self.childs[key].feature]), label=str(key))\n",
    "                    self.childs[key].plot_node(figure, column_labels)\n",
    "                else:\n",
    "                    figure.attr('node', shape='box')\n",
    "                    figure.edge(str(column_labels[self.feature]), str(self.childs[key].label)+', '+str(column_labels[self.feature]), label=str(key))\n",
    "                    figure.attr('node', shape='ellipse')"
   ]
  },
  {
   "cell_type": "code",
   "execution_count": 7,
   "id": "21e1d3f1",
   "metadata": {},
   "outputs": [],
   "source": [
    "class DecisionTree:\n",
    "    def __init__(self, criterion='entropy', min_samples_split=1):\n",
    "        # name of the criterion to select best splits\n",
    "        self.criterion = criterion\n",
    "        # minimum number of samples to consider it as leaf\n",
    "        self.min_samples_split=min_samples_split\n",
    "        # root of the tree\n",
    "        self.root=None\n",
    "\n",
    "    def fit(self, X, y):\n",
    "        self.root = self._grow_tree(X, y)\n",
    "    \n",
    "    def plot_tree(self, column_labels):\n",
    "        figure = graphviz.Digraph('tree', filename='tree.gv')\n",
    "        figure.attr('node', shape='ellipse')\n",
    "        self.root.plot_node(figure, column_labels)\n",
    "        figure.view()\n",
    "\n",
    "    def _grow_tree(self, X, y, f_value=None):\n",
    "        n_samples, n_feats = X.shape\n",
    "        n_labels = len(np.unique(y))\n",
    "\n",
    "        # check the stopping criteria\n",
    "        if (n_labels == 1 or n_samples < self.min_samples_split):\n",
    "            leaf_value = self._most_common_label(y)\n",
    "            return Node(f_value=f_value, label=leaf_value, most_common=leaf_value)\n",
    "\n",
    "        # find the best split\n",
    "        best_feature = self._best_split(X, y)\n",
    "\n",
    "        # create child nodes\n",
    "        childs = {}\n",
    "        best_feature_column = X[:, best_feature]\n",
    "        for v in np.unique(best_feature_column):\n",
    "            index = np.argwhere(best_feature_column == v).flatten()\n",
    "            child_X = X[index]\n",
    "            child_y = y[index]\n",
    "            childs[v] = self._grow_tree(child_X, child_y, v)\n",
    "        \n",
    "        return Node(feature=best_feature, f_value=f_value, childs=childs, most_common=self._most_common_label(y))\n",
    "\n",
    "\n",
    "    def _best_split(self, X, y):\n",
    "        if self.criterion == 'entropy':\n",
    "            best_gain = -1\n",
    "            split_idx = None\n",
    "            for feat_idx in range(X.shape[1]):\n",
    "                X_column = X[:, feat_idx]\n",
    "                gain = self._information_gain(y, X_column)\n",
    "                if gain > best_gain:\n",
    "                    best_gain = gain\n",
    "                    split_idx = feat_idx\n",
    "            return split_idx\n",
    "        \n",
    "        elif self.criterion == 'gini':\n",
    "            best_gini = float('inf')\n",
    "            split_idx = None\n",
    "            for feat_idx in range(X.shape[1]):\n",
    "                X_column = X[:, feat_idx]\n",
    "                gini = self._gini_split(y, X_column)\n",
    "                if gini < best_gini:\n",
    "                    best_gini = gini\n",
    "                    split_idx = feat_idx\n",
    "            return split_idx\n",
    "\n",
    "    def _information_gain(self, y, X_column):\n",
    "        # parent entropy\n",
    "        parent_entropy = self._entropy(y)\n",
    "\n",
    "        # create children\n",
    "        childs_idx = self._split(X_column)\n",
    "        \n",
    "        # calculate the weighted avg. entropy of children\n",
    "        n = len(y)\n",
    "        information_gain = parent_entropy\n",
    "        for ch_id in childs_idx:\n",
    "            n_ch = len(ch_id)\n",
    "            information_gain -= (n_ch / n) * self._entropy(y[ch_id])\n",
    "            \n",
    "        return information_gain\n",
    "\n",
    "    def _split(self, X_column):\n",
    "        splits = []\n",
    "        for v in np.unique(X_column):\n",
    "            splits.append(np.argwhere(X_column == v).flatten())\n",
    "        return splits\n",
    "\n",
    "    def _entropy(self, y):\n",
    "        count = Counter(y)\n",
    "        return -np.sum([count[i]/len(y) * np.log2(count[i]/len(y)) for i in count])\n",
    "\n",
    "    def _gini_split(self, y, X_column):\n",
    "        # create children\n",
    "        childs_idx = self._split(X_column)\n",
    "        # calculate Gini split\n",
    "        n = len(y)\n",
    "        return np.sum([(len(ch_id)/n) * self._gini_index(y[ch_id]) for ch_id in childs_idx])\n",
    "            \n",
    "    \n",
    "    def _gini_index(self, y):\n",
    "        count = Counter(y)\n",
    "        return 1 - np.sum([(count[i]/len(y)) ** 2 for i in count])\n",
    "    \n",
    "    \n",
    "    def _most_common_label(self, y):\n",
    "        counter = Counter(y)\n",
    "        value = counter.most_common(1)[0][0]\n",
    "        return value\n",
    "\n",
    "    def predict(self, X):\n",
    "        return np.array([self._traverse_tree(x, self.root) for x in X])\n",
    "\n",
    "    def _traverse_tree(self, x, node):\n",
    "        if node.is_leaf_node():\n",
    "            return node.label\n",
    "        \n",
    "        if x[node.feature] in node.childs:\n",
    "            return self._traverse_tree(x, node.childs[x[node.feature]])\n",
    "        else:\n",
    "            return node.most_common\n",
    "        "
   ]
  },
  {
   "cell_type": "markdown",
   "id": "49521715",
   "metadata": {},
   "source": [
    "# Test Bed"
   ]
  },
  {
   "cell_type": "code",
   "execution_count": null,
   "id": "512e68b0",
   "metadata": {},
   "outputs": [],
   "source": [
    "data = {\n",
    "    'alt': ['Yes', 'Yes', 'No', 'Yes', 'Yes', 'No', 'No', 'No', 'No', 'Yes', 'No', 'Yes'],\n",
    "    'bar': ['No', 'No', 'Yes', 'No', 'No', 'Yes', 'Yes', 'No', 'Yes', 'Yes', 'No', 'Yes'],\n",
    "    'fri': ['No', 'No', 'No', 'Yes', 'Yes', 'No', 'No', 'No', 'Yes', 'Yes', 'No', 'Yes'],\n",
    "    'hun': ['Yes', 'Yes', 'No', 'Yes', 'No', 'Yes', 'No', 'Yes', 'No', 'Yes', 'No', 'Yes'],\n",
    "    'pat': ['Some', 'Full', 'Some', 'Full', 'Full', 'Some', 'None', 'Some', 'Full', 'Full', 'None', 'Full'],\n",
    "    'price': ['$$$', '$', '$', '$', '$$$', '$$', '$', '$$', '$', '$$$', '$', '$'],\n",
    "    'rain': ['No', 'No', 'No', 'Yes', 'No', 'Yes', 'Yes', 'Yes', 'Yes', 'No', 'No', 'No'],\n",
    "    'res': ['Yes', 'No', 'No', 'No', 'Yes', 'Yes', 'No', 'Yes', 'No', 'Yes', 'No', 'No'],\n",
    "    'type': ['French', 'Thai', 'Burger', 'Thai', 'French', 'Italian', 'Burger', 'Thai', 'Burger', 'Italian', 'Thai', 'Burger'],\n",
    "    'est': ['0-10', '30-60', '0-10', '10-30', '>60', '0-10', '0-10', '0-10', '>60', '10-30', '0-10', '30-60'],\n",
    "    'will_wait': ['Yes', 'No', 'Yes', 'Yes', 'No', 'Yes', 'No', 'Yes', 'No', 'No', 'No', 'Yes']\n",
    "}\n",
    "df = pd.DataFrame(data)\n",
    "df"
   ]
  },
  {
   "cell_type": "code",
   "execution_count": null,
   "id": "aa5901c0",
   "metadata": {},
   "outputs": [],
   "source": [
    "def traverse(root, depth=0, his=[]):\n",
    "    if root.feature is not None:\n",
    "        if depth < len(his):\n",
    "            his[depth].append((root.f_value, list(df.columns)[root.feature]))\n",
    "        else:\n",
    "            his.append([(root.f_value, list(df.columns)[root.feature])])\n",
    "    else:\n",
    "        if depth < len(his):\n",
    "            his[depth].append((root.f_value, root.label))\n",
    "        else:\n",
    "            his.append([(root.f_value, root.label)])\n",
    "    \n",
    "    if root.childs is not None:\n",
    "        for child_key in root.childs:\n",
    "            his = traverse(root.childs[child_key], depth+1, his=his)\n",
    "    \n",
    "    return his"
   ]
  },
  {
   "cell_type": "code",
   "execution_count": null,
   "id": "8b058ebc",
   "metadata": {},
   "outputs": [],
   "source": [
    "tree = DecisionTree(criterion='gini')\n",
    "tree.fit(df.to_numpy()[:, :-1], df.to_numpy()[:, -1])"
   ]
  },
  {
   "cell_type": "code",
   "execution_count": null,
   "id": "44fbc436",
   "metadata": {},
   "outputs": [],
   "source": [
    "tree.plot_tree(list(df.columns))"
   ]
  },
  {
   "cell_type": "code",
   "execution_count": 61,
   "id": "01d60cc1",
   "metadata": {},
   "outputs": [],
   "source": [
    "def evaluation(y_pred, y, pos_label):\n",
    "    acc = accuracy_score(y_pred, y)\n",
    "    prec = precision_score(y_pred, y, pos_label=pos_label)\n",
    "    rec = recall_score(y_pred, y, pos_label=pos_label)\n",
    "    f1 = f1_score(y_pred, y, pos_label=pos_label)\n",
    "    \n",
    "    cm = confusion_matrix(y, y_pred)\n",
    "    disp = ConfusionMatrixDisplay(cm)\n",
    "    \n",
    "    print(f'Accuracy={round(acc, ndigits=4)}, Precision={round(prec, ndigits=4)}, Recall={round(rec, ndigits=4)}, F1={round(f1, ndigits=4)}')\n",
    "    plt.figure()\n",
    "    disp.plot()\n",
    "    plt.show()"
   ]
  },
  {
   "cell_type": "markdown",
   "id": "0ca4baf4",
   "metadata": {},
   "source": [
    "# Cancer dataset"
   ]
  },
  {
   "cell_type": "code",
   "execution_count": 63,
   "id": "8469a70d",
   "metadata": {
    "scrolled": true
   },
   "outputs": [
    {
     "data": {
      "text/html": [
       "<div>\n",
       "<style scoped>\n",
       "    .dataframe tbody tr th:only-of-type {\n",
       "        vertical-align: middle;\n",
       "    }\n",
       "\n",
       "    .dataframe tbody tr th {\n",
       "        vertical-align: top;\n",
       "    }\n",
       "\n",
       "    .dataframe thead th {\n",
       "        text-align: right;\n",
       "    }\n",
       "</style>\n",
       "<table border=\"1\" class=\"dataframe\">\n",
       "  <thead>\n",
       "    <tr style=\"text-align: right;\">\n",
       "      <th></th>\n",
       "      <th>diagnosis</th>\n",
       "      <th>radius_mean</th>\n",
       "      <th>texture_mean</th>\n",
       "      <th>perimeter_mean</th>\n",
       "      <th>area_mean</th>\n",
       "      <th>smoothness_mean</th>\n",
       "      <th>compactness_mean</th>\n",
       "      <th>concavity_mean</th>\n",
       "      <th>concave points_mean</th>\n",
       "      <th>symmetry_mean</th>\n",
       "      <th>...</th>\n",
       "      <th>radius_worst</th>\n",
       "      <th>texture_worst</th>\n",
       "      <th>perimeter_worst</th>\n",
       "      <th>area_worst</th>\n",
       "      <th>smoothness_worst</th>\n",
       "      <th>compactness_worst</th>\n",
       "      <th>concavity_worst</th>\n",
       "      <th>concave points_worst</th>\n",
       "      <th>symmetry_worst</th>\n",
       "      <th>fractal_dimension_worst</th>\n",
       "    </tr>\n",
       "  </thead>\n",
       "  <tbody>\n",
       "    <tr>\n",
       "      <th>0</th>\n",
       "      <td>M</td>\n",
       "      <td>17.99</td>\n",
       "      <td>10.38</td>\n",
       "      <td>122.80</td>\n",
       "      <td>1001.0</td>\n",
       "      <td>0.11840</td>\n",
       "      <td>0.27760</td>\n",
       "      <td>0.30010</td>\n",
       "      <td>0.14710</td>\n",
       "      <td>0.2419</td>\n",
       "      <td>...</td>\n",
       "      <td>25.380</td>\n",
       "      <td>17.33</td>\n",
       "      <td>184.60</td>\n",
       "      <td>2019.0</td>\n",
       "      <td>0.16220</td>\n",
       "      <td>0.66560</td>\n",
       "      <td>0.7119</td>\n",
       "      <td>0.2654</td>\n",
       "      <td>0.4601</td>\n",
       "      <td>0.11890</td>\n",
       "    </tr>\n",
       "    <tr>\n",
       "      <th>1</th>\n",
       "      <td>M</td>\n",
       "      <td>20.57</td>\n",
       "      <td>17.77</td>\n",
       "      <td>132.90</td>\n",
       "      <td>1326.0</td>\n",
       "      <td>0.08474</td>\n",
       "      <td>0.07864</td>\n",
       "      <td>0.08690</td>\n",
       "      <td>0.07017</td>\n",
       "      <td>0.1812</td>\n",
       "      <td>...</td>\n",
       "      <td>24.990</td>\n",
       "      <td>23.41</td>\n",
       "      <td>158.80</td>\n",
       "      <td>1956.0</td>\n",
       "      <td>0.12380</td>\n",
       "      <td>0.18660</td>\n",
       "      <td>0.2416</td>\n",
       "      <td>0.1860</td>\n",
       "      <td>0.2750</td>\n",
       "      <td>0.08902</td>\n",
       "    </tr>\n",
       "    <tr>\n",
       "      <th>2</th>\n",
       "      <td>M</td>\n",
       "      <td>19.69</td>\n",
       "      <td>21.25</td>\n",
       "      <td>130.00</td>\n",
       "      <td>1203.0</td>\n",
       "      <td>0.10960</td>\n",
       "      <td>0.15990</td>\n",
       "      <td>0.19740</td>\n",
       "      <td>0.12790</td>\n",
       "      <td>0.2069</td>\n",
       "      <td>...</td>\n",
       "      <td>23.570</td>\n",
       "      <td>25.53</td>\n",
       "      <td>152.50</td>\n",
       "      <td>1709.0</td>\n",
       "      <td>0.14440</td>\n",
       "      <td>0.42450</td>\n",
       "      <td>0.4504</td>\n",
       "      <td>0.2430</td>\n",
       "      <td>0.3613</td>\n",
       "      <td>0.08758</td>\n",
       "    </tr>\n",
       "    <tr>\n",
       "      <th>3</th>\n",
       "      <td>M</td>\n",
       "      <td>11.42</td>\n",
       "      <td>20.38</td>\n",
       "      <td>77.58</td>\n",
       "      <td>386.1</td>\n",
       "      <td>0.14250</td>\n",
       "      <td>0.28390</td>\n",
       "      <td>0.24140</td>\n",
       "      <td>0.10520</td>\n",
       "      <td>0.2597</td>\n",
       "      <td>...</td>\n",
       "      <td>14.910</td>\n",
       "      <td>26.50</td>\n",
       "      <td>98.87</td>\n",
       "      <td>567.7</td>\n",
       "      <td>0.20980</td>\n",
       "      <td>0.86630</td>\n",
       "      <td>0.6869</td>\n",
       "      <td>0.2575</td>\n",
       "      <td>0.6638</td>\n",
       "      <td>0.17300</td>\n",
       "    </tr>\n",
       "    <tr>\n",
       "      <th>4</th>\n",
       "      <td>M</td>\n",
       "      <td>20.29</td>\n",
       "      <td>14.34</td>\n",
       "      <td>135.10</td>\n",
       "      <td>1297.0</td>\n",
       "      <td>0.10030</td>\n",
       "      <td>0.13280</td>\n",
       "      <td>0.19800</td>\n",
       "      <td>0.10430</td>\n",
       "      <td>0.1809</td>\n",
       "      <td>...</td>\n",
       "      <td>22.540</td>\n",
       "      <td>16.67</td>\n",
       "      <td>152.20</td>\n",
       "      <td>1575.0</td>\n",
       "      <td>0.13740</td>\n",
       "      <td>0.20500</td>\n",
       "      <td>0.4000</td>\n",
       "      <td>0.1625</td>\n",
       "      <td>0.2364</td>\n",
       "      <td>0.07678</td>\n",
       "    </tr>\n",
       "    <tr>\n",
       "      <th>...</th>\n",
       "      <td>...</td>\n",
       "      <td>...</td>\n",
       "      <td>...</td>\n",
       "      <td>...</td>\n",
       "      <td>...</td>\n",
       "      <td>...</td>\n",
       "      <td>...</td>\n",
       "      <td>...</td>\n",
       "      <td>...</td>\n",
       "      <td>...</td>\n",
       "      <td>...</td>\n",
       "      <td>...</td>\n",
       "      <td>...</td>\n",
       "      <td>...</td>\n",
       "      <td>...</td>\n",
       "      <td>...</td>\n",
       "      <td>...</td>\n",
       "      <td>...</td>\n",
       "      <td>...</td>\n",
       "      <td>...</td>\n",
       "      <td>...</td>\n",
       "    </tr>\n",
       "    <tr>\n",
       "      <th>564</th>\n",
       "      <td>M</td>\n",
       "      <td>21.56</td>\n",
       "      <td>22.39</td>\n",
       "      <td>142.00</td>\n",
       "      <td>1479.0</td>\n",
       "      <td>0.11100</td>\n",
       "      <td>0.11590</td>\n",
       "      <td>0.24390</td>\n",
       "      <td>0.13890</td>\n",
       "      <td>0.1726</td>\n",
       "      <td>...</td>\n",
       "      <td>25.450</td>\n",
       "      <td>26.40</td>\n",
       "      <td>166.10</td>\n",
       "      <td>2027.0</td>\n",
       "      <td>0.14100</td>\n",
       "      <td>0.21130</td>\n",
       "      <td>0.4107</td>\n",
       "      <td>0.2216</td>\n",
       "      <td>0.2060</td>\n",
       "      <td>0.07115</td>\n",
       "    </tr>\n",
       "    <tr>\n",
       "      <th>565</th>\n",
       "      <td>M</td>\n",
       "      <td>20.13</td>\n",
       "      <td>28.25</td>\n",
       "      <td>131.20</td>\n",
       "      <td>1261.0</td>\n",
       "      <td>0.09780</td>\n",
       "      <td>0.10340</td>\n",
       "      <td>0.14400</td>\n",
       "      <td>0.09791</td>\n",
       "      <td>0.1752</td>\n",
       "      <td>...</td>\n",
       "      <td>23.690</td>\n",
       "      <td>38.25</td>\n",
       "      <td>155.00</td>\n",
       "      <td>1731.0</td>\n",
       "      <td>0.11660</td>\n",
       "      <td>0.19220</td>\n",
       "      <td>0.3215</td>\n",
       "      <td>0.1628</td>\n",
       "      <td>0.2572</td>\n",
       "      <td>0.06637</td>\n",
       "    </tr>\n",
       "    <tr>\n",
       "      <th>566</th>\n",
       "      <td>M</td>\n",
       "      <td>16.60</td>\n",
       "      <td>28.08</td>\n",
       "      <td>108.30</td>\n",
       "      <td>858.1</td>\n",
       "      <td>0.08455</td>\n",
       "      <td>0.10230</td>\n",
       "      <td>0.09251</td>\n",
       "      <td>0.05302</td>\n",
       "      <td>0.1590</td>\n",
       "      <td>...</td>\n",
       "      <td>18.980</td>\n",
       "      <td>34.12</td>\n",
       "      <td>126.70</td>\n",
       "      <td>1124.0</td>\n",
       "      <td>0.11390</td>\n",
       "      <td>0.30940</td>\n",
       "      <td>0.3403</td>\n",
       "      <td>0.1418</td>\n",
       "      <td>0.2218</td>\n",
       "      <td>0.07820</td>\n",
       "    </tr>\n",
       "    <tr>\n",
       "      <th>567</th>\n",
       "      <td>M</td>\n",
       "      <td>20.60</td>\n",
       "      <td>29.33</td>\n",
       "      <td>140.10</td>\n",
       "      <td>1265.0</td>\n",
       "      <td>0.11780</td>\n",
       "      <td>0.27700</td>\n",
       "      <td>0.35140</td>\n",
       "      <td>0.15200</td>\n",
       "      <td>0.2397</td>\n",
       "      <td>...</td>\n",
       "      <td>25.740</td>\n",
       "      <td>39.42</td>\n",
       "      <td>184.60</td>\n",
       "      <td>1821.0</td>\n",
       "      <td>0.16500</td>\n",
       "      <td>0.86810</td>\n",
       "      <td>0.9387</td>\n",
       "      <td>0.2650</td>\n",
       "      <td>0.4087</td>\n",
       "      <td>0.12400</td>\n",
       "    </tr>\n",
       "    <tr>\n",
       "      <th>568</th>\n",
       "      <td>B</td>\n",
       "      <td>7.76</td>\n",
       "      <td>24.54</td>\n",
       "      <td>47.92</td>\n",
       "      <td>181.0</td>\n",
       "      <td>0.05263</td>\n",
       "      <td>0.04362</td>\n",
       "      <td>0.00000</td>\n",
       "      <td>0.00000</td>\n",
       "      <td>0.1587</td>\n",
       "      <td>...</td>\n",
       "      <td>9.456</td>\n",
       "      <td>30.37</td>\n",
       "      <td>59.16</td>\n",
       "      <td>268.6</td>\n",
       "      <td>0.08996</td>\n",
       "      <td>0.06444</td>\n",
       "      <td>0.0000</td>\n",
       "      <td>0.0000</td>\n",
       "      <td>0.2871</td>\n",
       "      <td>0.07039</td>\n",
       "    </tr>\n",
       "  </tbody>\n",
       "</table>\n",
       "<p>569 rows × 31 columns</p>\n",
       "</div>"
      ],
      "text/plain": [
       "    diagnosis  radius_mean  texture_mean  perimeter_mean  area_mean  \\\n",
       "0           M        17.99         10.38          122.80     1001.0   \n",
       "1           M        20.57         17.77          132.90     1326.0   \n",
       "2           M        19.69         21.25          130.00     1203.0   \n",
       "3           M        11.42         20.38           77.58      386.1   \n",
       "4           M        20.29         14.34          135.10     1297.0   \n",
       "..        ...          ...           ...             ...        ...   \n",
       "564         M        21.56         22.39          142.00     1479.0   \n",
       "565         M        20.13         28.25          131.20     1261.0   \n",
       "566         M        16.60         28.08          108.30      858.1   \n",
       "567         M        20.60         29.33          140.10     1265.0   \n",
       "568         B         7.76         24.54           47.92      181.0   \n",
       "\n",
       "     smoothness_mean  compactness_mean  concavity_mean  concave points_mean  \\\n",
       "0            0.11840           0.27760         0.30010              0.14710   \n",
       "1            0.08474           0.07864         0.08690              0.07017   \n",
       "2            0.10960           0.15990         0.19740              0.12790   \n",
       "3            0.14250           0.28390         0.24140              0.10520   \n",
       "4            0.10030           0.13280         0.19800              0.10430   \n",
       "..               ...               ...             ...                  ...   \n",
       "564          0.11100           0.11590         0.24390              0.13890   \n",
       "565          0.09780           0.10340         0.14400              0.09791   \n",
       "566          0.08455           0.10230         0.09251              0.05302   \n",
       "567          0.11780           0.27700         0.35140              0.15200   \n",
       "568          0.05263           0.04362         0.00000              0.00000   \n",
       "\n",
       "     symmetry_mean  ...  radius_worst  texture_worst  perimeter_worst  \\\n",
       "0           0.2419  ...        25.380          17.33           184.60   \n",
       "1           0.1812  ...        24.990          23.41           158.80   \n",
       "2           0.2069  ...        23.570          25.53           152.50   \n",
       "3           0.2597  ...        14.910          26.50            98.87   \n",
       "4           0.1809  ...        22.540          16.67           152.20   \n",
       "..             ...  ...           ...            ...              ...   \n",
       "564         0.1726  ...        25.450          26.40           166.10   \n",
       "565         0.1752  ...        23.690          38.25           155.00   \n",
       "566         0.1590  ...        18.980          34.12           126.70   \n",
       "567         0.2397  ...        25.740          39.42           184.60   \n",
       "568         0.1587  ...         9.456          30.37            59.16   \n",
       "\n",
       "     area_worst  smoothness_worst  compactness_worst  concavity_worst  \\\n",
       "0        2019.0           0.16220            0.66560           0.7119   \n",
       "1        1956.0           0.12380            0.18660           0.2416   \n",
       "2        1709.0           0.14440            0.42450           0.4504   \n",
       "3         567.7           0.20980            0.86630           0.6869   \n",
       "4        1575.0           0.13740            0.20500           0.4000   \n",
       "..          ...               ...                ...              ...   \n",
       "564      2027.0           0.14100            0.21130           0.4107   \n",
       "565      1731.0           0.11660            0.19220           0.3215   \n",
       "566      1124.0           0.11390            0.30940           0.3403   \n",
       "567      1821.0           0.16500            0.86810           0.9387   \n",
       "568       268.6           0.08996            0.06444           0.0000   \n",
       "\n",
       "     concave points_worst  symmetry_worst  fractal_dimension_worst  \n",
       "0                  0.2654          0.4601                  0.11890  \n",
       "1                  0.1860          0.2750                  0.08902  \n",
       "2                  0.2430          0.3613                  0.08758  \n",
       "3                  0.2575          0.6638                  0.17300  \n",
       "4                  0.1625          0.2364                  0.07678  \n",
       "..                    ...             ...                      ...  \n",
       "564                0.2216          0.2060                  0.07115  \n",
       "565                0.1628          0.2572                  0.06637  \n",
       "566                0.1418          0.2218                  0.07820  \n",
       "567                0.2650          0.4087                  0.12400  \n",
       "568                0.0000          0.2871                  0.07039  \n",
       "\n",
       "[569 rows x 31 columns]"
      ]
     },
     "execution_count": 63,
     "metadata": {},
     "output_type": "execute_result"
    }
   ],
   "source": [
    "df = pd.read_csv('part2.csv').iloc[:, 1:-1]\n",
    "df"
   ]
  },
  {
   "cell_type": "markdown",
   "id": "8b1e7c07",
   "metadata": {},
   "source": [
    "# Using `cut`"
   ]
  },
  {
   "cell_type": "markdown",
   "id": "cfb7b131",
   "metadata": {},
   "source": [
    "### `entropy` criterion"
   ]
  },
  {
   "cell_type": "code",
   "execution_count": 64,
   "id": "b44e520a",
   "metadata": {},
   "outputs": [
    {
     "name": "stdout",
     "output_type": "stream",
     "text": [
      "Accuracy=0.9211, Precision=0.9706, Recall=0.8049, F1=0.88\n"
     ]
    },
    {
     "data": {
      "text/plain": [
       "<Figure size 432x288 with 0 Axes>"
      ]
     },
     "metadata": {},
     "output_type": "display_data"
    },
    {
     "data": {
      "image/png": "[encoded data removed]",
      "text/plain": [
       "<Figure size 432x288 with 2 Axes>"
      ]
     },
     "metadata": {
      "needs_background": "light"
     },
     "output_type": "display_data"
    },
    {
     "name": "stdout",
     "output_type": "stream",
     "text": [
      "Accuracy=0.8684, Precision=0.8824, Recall=0.7317, F1=0.8\n"
     ]
    },
    {
     "data": {
      "text/plain": [
       "<Figure size 432x288 with 0 Axes>"
      ]
     },
     "metadata": {},
     "output_type": "display_data"
    },
    {
     "data": {
      "image/png": "[encoded data removed]",
      "text/plain": [
       "<Figure size 432x288 with 2 Axes>"
      ]
     },
     "metadata": {
      "needs_background": "light"
     },
     "output_type": "display_data"
    },
    {
     "name": "stdout",
     "output_type": "stream",
     "text": [
      "Accuracy=0.9211, Precision=0.9118, Recall=0.8378, F1=0.8732\n"
     ]
    },
    {
     "data": {
      "text/plain": [
       "<Figure size 432x288 with 0 Axes>"
      ]
     },
     "metadata": {},
     "output_type": "display_data"
    },
    {
     "data": {
      "image/png": "[encoded data removed]",
      "text/plain": [
       "<Figure size 432x288 with 2 Axes>"
      ]
     },
     "metadata": {
      "needs_background": "light"
     },
     "output_type": "display_data"
    },
    {
     "name": "stdout",
     "output_type": "stream",
     "text": [
      "Accuracy=0.8684, Precision=0.8235, Recall=0.7568, F1=0.7887\n"
     ]
    },
    {
     "data": {
      "text/plain": [
       "<Figure size 432x288 with 0 Axes>"
      ]
     },
     "metadata": {},
     "output_type": "display_data"
    },
    {
     "data": {
      "image/png": "[encoded data removed]",
      "text/plain": [
       "<Figure size 432x288 with 2 Axes>"
      ]
     },
     "metadata": {
      "needs_background": "light"
     },
     "output_type": "display_data"
    },
    {
     "name": "stdout",
     "output_type": "stream",
     "text": [
      "Accuracy=0.886, Precision=0.8529, Recall=0.7838, F1=0.8169\n"
     ]
    },
    {
     "data": {
      "text/plain": [
       "<Figure size 432x288 with 0 Axes>"
      ]
     },
     "metadata": {},
     "output_type": "display_data"
    },
    {
     "data": {
      "image/png": "[encoded data removed]",
      "text/plain": [
       "<Figure size 432x288 with 2 Axes>"
      ]
     },
     "metadata": {
      "needs_background": "light"
     },
     "output_type": "display_data"
    },
    {
     "name": "stdout",
     "output_type": "stream",
     "text": [
      "Accuracy=0.8596, Precision=0.8235, Recall=0.7368, F1=0.7778\n"
     ]
    },
    {
     "data": {
      "text/plain": [
       "<Figure size 432x288 with 0 Axes>"
      ]
     },
     "metadata": {},
     "output_type": "display_data"
    },
    {
     "data": {
      "image/png": "[encoded data removed]",
      "text/plain": [
       "<Figure size 432x288 with 2 Axes>"
      ]
     },
     "metadata": {
      "needs_background": "light"
     },
     "output_type": "display_data"
    },
    {
     "data": {
      "text/plain": [
       "[<matplotlib.lines.Line2D at 0x1df763f7f10>]"
      ]
     },
     "execution_count": 64,
     "metadata": {},
     "output_type": "execute_result"
    },
    {
     "data": {
      "image/png": "[encoded data removed]",
      "text/plain": [
       "<Figure size 432x288 with 1 Axes>"
      ]
     },
     "metadata": {
      "needs_background": "light"
     },
     "output_type": "display_data"
    }
   ],
   "source": [
    "values = [5, 10, 15, 20, 30, 50]\n",
    "acc_history = []\n",
    "\n",
    "for v in values:\n",
    "    X = df.iloc[:, 1:]\n",
    "    y = df.iloc[:, 0]\n",
    "    \n",
    "    x_train, x_test, y_train, y_test = train_test_split(X, y, test_size=0.2, random_state=4)\n",
    "    \n",
    "    bins = []\n",
    "    for c in x_train.columns:\n",
    "        x_train[c], c_bins = pd.cut(x_train[c], v, retbins=True)\n",
    "        bins.append(c_bins)\n",
    "\n",
    "    my_tree = DecisionTree()\n",
    "    my_tree.fit(x_train.to_numpy(), y_train.to_numpy())\n",
    "    \n",
    "    for idx, c in enumerate(x_test.columns):\n",
    "        x_test[c] = pd.cut(x_test[c], bins[idx])\n",
    "        \n",
    "    y_pred = my_tree.predict(x_test.to_numpy())\n",
    "    evaluation(y_pred, y_test, pos_label='M')\n",
    "    acc_history.append(accuracy_score(y_pred, y_test.to_numpy()))\n",
    "    \n",
    "plt.plot(values, acc_history)"
   ]
  },
  {
   "cell_type": "markdown",
   "id": "500ceff4",
   "metadata": {},
   "source": [
    "### `gini` criterion"
   ]
  },
  {
   "cell_type": "code",
   "execution_count": 65,
   "id": "099ce5b3",
   "metadata": {},
   "outputs": [
    {
     "name": "stdout",
     "output_type": "stream",
     "text": [
      "Accuracy=0.9211, Precision=0.9706, Recall=0.8049, F1=0.88\n"
     ]
    },
    {
     "data": {
      "text/plain": [
       "<Figure size 432x288 with 0 Axes>"
      ]
     },
     "metadata": {},
     "output_type": "display_data"
    },
    {
     "data": {
      "image/png": "[encoded data removed]",
      "text/plain": [
       "<Figure size 432x288 with 2 Axes>"
      ]
     },
     "metadata": {
      "needs_background": "light"
     },
     "output_type": "display_data"
    },
    {
     "name": "stdout",
     "output_type": "stream",
     "text": [
      "Accuracy=0.8684, Precision=0.8824, Recall=0.7317, F1=0.8\n"
     ]
    },
    {
     "data": {
      "text/plain": [
       "<Figure size 432x288 with 0 Axes>"
      ]
     },
     "metadata": {},
     "output_type": "display_data"
    },
    {
     "data": {
      "image/png": "[encoded data removed]",
      "text/plain": [
       "<Figure size 432x288 with 2 Axes>"
      ]
     },
     "metadata": {
      "needs_background": "light"
     },
     "output_type": "display_data"
    },
    {
     "name": "stdout",
     "output_type": "stream",
     "text": [
      "Accuracy=0.8684, Precision=0.8824, Recall=0.7317, F1=0.8\n"
     ]
    },
    {
     "data": {
      "text/plain": [
       "<Figure size 432x288 with 0 Axes>"
      ]
     },
     "metadata": {},
     "output_type": "display_data"
    },
    {
     "data": {
      "image/png": "[encoded data removed]",
      "text/plain": [
       "<Figure size 432x288 with 2 Axes>"
      ]
     },
     "metadata": {
      "needs_background": "light"
     },
     "output_type": "display_data"
    },
    {
     "name": "stdout",
     "output_type": "stream",
     "text": [
      "Accuracy=0.8684, Precision=0.8235, Recall=0.7568, F1=0.7887\n"
     ]
    },
    {
     "data": {
      "text/plain": [
       "<Figure size 432x288 with 0 Axes>"
      ]
     },
     "metadata": {},
     "output_type": "display_data"
    },
    {
     "data": {
      "image/png": "[encoded data removed]",
      "text/plain": [
       "<Figure size 432x288 with 2 Axes>"
      ]
     },
     "metadata": {
      "needs_background": "light"
     },
     "output_type": "display_data"
    },
    {
     "name": "stdout",
     "output_type": "stream",
     "text": [
      "Accuracy=0.886, Precision=0.8529, Recall=0.7838, F1=0.8169\n"
     ]
    },
    {
     "data": {
      "text/plain": [
       "<Figure size 432x288 with 0 Axes>"
      ]
     },
     "metadata": {},
     "output_type": "display_data"
    },
    {
     "data": {
      "image/png": "[encoded data removed]",
      "text/plain": [
       "<Figure size 432x288 with 2 Axes>"
      ]
     },
     "metadata": {
      "needs_background": "light"
     },
     "output_type": "display_data"
    },
    {
     "name": "stdout",
     "output_type": "stream",
     "text": [
      "Accuracy=0.8596, Precision=0.8235, Recall=0.7368, F1=0.7778\n"
     ]
    },
    {
     "data": {
      "text/plain": [
       "<Figure size 432x288 with 0 Axes>"
      ]
     },
     "metadata": {},
     "output_type": "display_data"
    },
    {
     "data": {
      "image/png": "[encoded data removed]",
      "text/plain": [
       "<Figure size 432x288 with 2 Axes>"
      ]
     },
     "metadata": {
      "needs_background": "light"
     },
     "output_type": "display_data"
    },
    {
     "data": {
      "text/plain": [
       "[<matplotlib.lines.Line2D at 0x1df779f6100>]"
      ]
     },
     "execution_count": 65,
     "metadata": {},
     "output_type": "execute_result"
    },
    {
     "data": {
      "image/png": "[encoded data removed]",
      "text/plain": [
       "<Figure size 432x288 with 1 Axes>"
      ]
     },
     "metadata": {
      "needs_background": "light"
     },
     "output_type": "display_data"
    }
   ],
   "source": [
    "values = [5, 10, 15, 20, 30, 50]\n",
    "acc_history = []\n",
    "\n",
    "for v in values:\n",
    "    X = df.iloc[:, 1:]\n",
    "    y = df.iloc[:, 0]\n",
    "    \n",
    "    x_train, x_test, y_train, y_test = train_test_split(X, y, test_size=0.2, random_state=4)\n",
    "    \n",
    "    bins = []\n",
    "    for c in x_train.columns:\n",
    "        x_train[c], c_bins = pd.cut(x_train[c], v, retbins=True)\n",
    "        bins.append(c_bins)\n",
    "\n",
    "    my_tree = DecisionTree(criterion='gini')\n",
    "    my_tree.fit(x_train.to_numpy(), y_train.to_numpy())\n",
    "    \n",
    "    for idx, c in enumerate(x_test.columns):\n",
    "        x_test[c] = pd.cut(x_test[c], bins[idx])\n",
    "        \n",
    "    y_pred = my_tree.predict(x_test.to_numpy())\n",
    "    evaluation(y_pred, y_test, pos_label='M')\n",
    "    acc_history.append(accuracy_score(y_pred, y_test.to_numpy()))\n",
    "    \n",
    "plt.plot(values, acc_history)"
   ]
  },
  {
   "cell_type": "markdown",
   "id": "53e0b3e6",
   "metadata": {},
   "source": [
    "# Using `qcut`"
   ]
  },
  {
   "cell_type": "markdown",
   "id": "f8103a9a",
   "metadata": {},
   "source": [
    "### `entropy` criterion"
   ]
  },
  {
   "cell_type": "code",
   "execution_count": 66,
   "id": "d8cc6294",
   "metadata": {},
   "outputs": [
    {
     "name": "stdout",
     "output_type": "stream",
     "text": [
      "Accuracy=0.886, Precision=1.0, Recall=0.7234, F1=0.8395\n"
     ]
    },
    {
     "data": {
      "text/plain": [
       "<Figure size 432x288 with 0 Axes>"
      ]
     },
     "metadata": {},
     "output_type": "display_data"
    },
    {
     "data": {
      "image/png": "[encoded data removed]",
      "text/plain": [
       "<Figure size 432x288 with 2 Axes>"
      ]
     },
     "metadata": {
      "needs_background": "light"
     },
     "output_type": "display_data"
    },
    {
     "name": "stdout",
     "output_type": "stream",
     "text": [
      "Accuracy=0.9386, Precision=0.8824, Recall=0.9091, F1=0.8955\n"
     ]
    },
    {
     "data": {
      "text/plain": [
       "<Figure size 432x288 with 0 Axes>"
      ]
     },
     "metadata": {},
     "output_type": "display_data"
    },
    {
     "data": {
      "image/png": "[encoded data removed]",
      "text/plain": [
       "<Figure size 432x288 with 2 Axes>"
      ]
     },
     "metadata": {
      "needs_background": "light"
     },
     "output_type": "display_data"
    },
    {
     "name": "stdout",
     "output_type": "stream",
     "text": [
      "Accuracy=0.8772, Precision=0.8529, Recall=0.7632, F1=0.8056\n"
     ]
    },
    {
     "data": {
      "text/plain": [
       "<Figure size 432x288 with 0 Axes>"
      ]
     },
     "metadata": {},
     "output_type": "display_data"
    },
    {
     "data": {
      "image/png": "[encoded data removed]",
      "text/plain": [
       "<Figure size 432x288 with 2 Axes>"
      ]
     },
     "metadata": {
      "needs_background": "light"
     },
     "output_type": "display_data"
    },
    {
     "name": "stdout",
     "output_type": "stream",
     "text": [
      "Accuracy=0.886, Precision=0.8529, Recall=0.7838, F1=0.8169\n"
     ]
    },
    {
     "data": {
      "text/plain": [
       "<Figure size 432x288 with 0 Axes>"
      ]
     },
     "metadata": {},
     "output_type": "display_data"
    },
    {
     "data": {
      "image/png": "[encoded data removed]",
      "text/plain": [
       "<Figure size 432x288 with 2 Axes>"
      ]
     },
     "metadata": {
      "needs_background": "light"
     },
     "output_type": "display_data"
    },
    {
     "name": "stdout",
     "output_type": "stream",
     "text": [
      "Accuracy=0.8421, Precision=0.8824, Recall=0.6818, F1=0.7692\n"
     ]
    },
    {
     "data": {
      "text/plain": [
       "<Figure size 432x288 with 0 Axes>"
      ]
     },
     "metadata": {},
     "output_type": "display_data"
    },
    {
     "data": {
      "image/png": "[encoded data removed]",
      "text/plain": [
       "<Figure size 432x288 with 2 Axes>"
      ]
     },
     "metadata": {
      "needs_background": "light"
     },
     "output_type": "display_data"
    },
    {
     "name": "stdout",
     "output_type": "stream",
     "text": [
      "Accuracy=0.8421, Precision=0.8824, Recall=0.6818, F1=0.7692\n"
     ]
    },
    {
     "data": {
      "text/plain": [
       "<Figure size 432x288 with 0 Axes>"
      ]
     },
     "metadata": {},
     "output_type": "display_data"
    },
    {
     "data": {
      "image/png": "[encoded data removed]",
      "text/plain": [
       "<Figure size 432x288 with 2 Axes>"
      ]
     },
     "metadata": {
      "needs_background": "light"
     },
     "output_type": "display_data"
    },
    {
     "data": {
      "text/plain": [
       "[<matplotlib.lines.Line2D at 0x1df77ae3460>]"
      ]
     },
     "execution_count": 66,
     "metadata": {},
     "output_type": "execute_result"
    },
    {
     "data": {
      "image/png": "[encoded data removed]",
      "text/plain": [
       "<Figure size 432x288 with 1 Axes>"
      ]
     },
     "metadata": {
      "needs_background": "light"
     },
     "output_type": "display_data"
    }
   ],
   "source": [
    "values = [5, 10, 15, 20, 30, 50]\n",
    "acc_history = []\n",
    "\n",
    "for v in values:\n",
    "    X = df.iloc[:, 1:]\n",
    "    y = df.iloc[:, 0]\n",
    "    \n",
    "    x_train, x_test, y_train, y_test = train_test_split(X, y, test_size=0.2, random_state=4)\n",
    "    \n",
    "    bins = []\n",
    "    for c in x_train.columns:\n",
    "        x_train[c], c_bins = pd.qcut(x_train[c], v, retbins=True)\n",
    "        bins.append(c_bins)\n",
    "\n",
    "    my_tree = DecisionTree()\n",
    "    my_tree.fit(x_train.to_numpy(), y_train.to_numpy())\n",
    "    \n",
    "    for idx, c in enumerate(x_test.columns):\n",
    "        x_test[c] = pd.cut(x_test[c], bins[idx])\n",
    "        \n",
    "    y_pred = my_tree.predict(x_test.to_numpy())\n",
    "    evaluation(y_pred, y_test, pos_label='M')\n",
    "    acc_history.append(accuracy_score(y_pred, y_test.to_numpy()))\n",
    "    \n",
    "plt.plot(values, acc_history)"
   ]
  },
  {
   "cell_type": "markdown",
   "id": "4eea4703",
   "metadata": {},
   "source": [
    "### `gini` criterion"
   ]
  },
  {
   "cell_type": "code",
   "execution_count": 62,
   "id": "8e2d8b29",
   "metadata": {},
   "outputs": [
    {
     "name": "stdout",
     "output_type": "stream",
     "text": [
      "Accuracy=0.8947, Precision=1.0, Recall=0.7391, F1=0.85\n"
     ]
    },
    {
     "data": {
      "text/plain": [
       "<Figure size 432x288 with 0 Axes>"
      ]
     },
     "metadata": {},
     "output_type": "display_data"
    },
    {
     "data": {
      "image/png": "[encoded data removed]",
      "text/plain": [
       "<Figure size 432x288 with 2 Axes>"
      ]
     },
     "metadata": {
      "needs_background": "light"
     },
     "output_type": "display_data"
    },
    {
     "name": "stdout",
     "output_type": "stream",
     "text": [
      "Accuracy=0.9386, Precision=0.8824, Recall=0.9091, F1=0.8955\n"
     ]
    },
    {
     "data": {
      "text/plain": [
       "<Figure size 432x288 with 0 Axes>"
      ]
     },
     "metadata": {},
     "output_type": "display_data"
    },
    {
     "data": {
      "image/png": "[encoded data removed]",
      "text/plain": [
       "<Figure size 432x288 with 2 Axes>"
      ]
     },
     "metadata": {
      "needs_background": "light"
     },
     "output_type": "display_data"
    },
    {
     "name": "stdout",
     "output_type": "stream",
     "text": [
      "Accuracy=0.8772, Precision=0.8529, Recall=0.7632, F1=0.8056\n"
     ]
    },
    {
     "data": {
      "text/plain": [
       "<Figure size 432x288 with 0 Axes>"
      ]
     },
     "metadata": {},
     "output_type": "display_data"
    },
    {
     "data": {
      "image/png": "[encoded data removed]",
      "text/plain": [
       "<Figure size 432x288 with 2 Axes>"
      ]
     },
     "metadata": {
      "needs_background": "light"
     },
     "output_type": "display_data"
    },
    {
     "name": "stdout",
     "output_type": "stream",
     "text": [
      "Accuracy=0.886, Precision=0.8529, Recall=0.7838, F1=0.8169\n"
     ]
    },
    {
     "data": {
      "text/plain": [
       "<Figure size 432x288 with 0 Axes>"
      ]
     },
     "metadata": {},
     "output_type": "display_data"
    },
    {
     "data": {
      "image/png": "[encoded data removed]",
      "text/plain": [
       "<Figure size 432x288 with 2 Axes>"
      ]
     },
     "metadata": {
      "needs_background": "light"
     },
     "output_type": "display_data"
    },
    {
     "name": "stdout",
     "output_type": "stream",
     "text": [
      "Accuracy=0.8421, Precision=0.8824, Recall=0.6818, F1=0.7692\n"
     ]
    },
    {
     "data": {
      "text/plain": [
       "<Figure size 432x288 with 0 Axes>"
      ]
     },
     "metadata": {},
     "output_type": "display_data"
    },
    {
     "data": {
      "image/png": "[encoded data removed]",
      "text/plain": [
       "<Figure size 432x288 with 2 Axes>"
      ]
     },
     "metadata": {
      "needs_background": "light"
     },
     "output_type": "display_data"
    },
    {
     "name": "stdout",
     "output_type": "stream",
     "text": [
      "Accuracy=0.8421, Precision=0.8824, Recall=0.6818, F1=0.7692\n"
     ]
    },
    {
     "data": {
      "text/plain": [
       "<Figure size 432x288 with 0 Axes>"
      ]
     },
     "metadata": {},
     "output_type": "display_data"
    },
    {
     "data": {
      "image/png": "[encoded data removed]",
      "text/plain": [
       "<Figure size 432x288 with 2 Axes>"
      ]
     },
     "metadata": {
      "needs_background": "light"
     },
     "output_type": "display_data"
    },
    {
     "name": "stdout",
     "output_type": "stream",
     "text": [
      "[0.8947368421052632, 0.9385964912280702, 0.8771929824561403, 0.8859649122807017, 0.8421052631578947, 0.8421052631578947]\n"
     ]
    },
    {
     "data": {
      "text/plain": [
       "[<matplotlib.lines.Line2D at 0x1df7715de80>]"
      ]
     },
     "execution_count": 62,
     "metadata": {},
     "output_type": "execute_result"
    },
    {
     "data": {
      "image/png": "[encoded data removed]",
      "text/plain": [
       "<Figure size 432x288 with 1 Axes>"
      ]
     },
     "metadata": {
      "needs_background": "light"
     },
     "output_type": "display_data"
    }
   ],
   "source": [
    "values = [5, 10, 15, 20, 30, 50]\n",
    "acc_history = []\n",
    "\n",
    "for v in values:\n",
    "    X = df.iloc[:, 1:]\n",
    "    y = df.iloc[:, 0]\n",
    "    \n",
    "    x_train, x_test, y_train, y_test = train_test_split(X, y, test_size=0.2, random_state=4)\n",
    "    \n",
    "    bins = []\n",
    "    for c in x_train.columns:\n",
    "        x_train[c], c_bins = pd.qcut(x_train[c], v, retbins=True)\n",
    "        bins.append(c_bins)\n",
    "\n",
    "    my_tree = DecisionTree(criterion='gini')\n",
    "    my_tree.fit(x_train.to_numpy(), y_train.to_numpy())\n",
    "    \n",
    "    for idx, c in enumerate(x_test.columns):\n",
    "        x_test[c] = pd.cut(x_test[c], bins[idx])\n",
    "        \n",
    "    y_pred = my_tree.predict(x_test.to_numpy())\n",
    "    evaluation(y_pred, y_test, pos_label='M')\n",
    "    acc_history.append(accuracy_score(y_pred, y_test.to_numpy()))\n",
    "    \n",
    "plt.figure()\n",
    "plt.plot(values, acc_history)"
   ]
  },
  {
   "cell_type": "markdown",
   "id": "43f4a7b9",
   "metadata": {},
   "source": [
    "# Using sort and cut algorithm"
   ]
  },
  {
   "cell_type": "code",
   "execution_count": 43,
   "id": "fc567263",
   "metadata": {},
   "outputs": [],
   "source": [
    "def sort_cut(column, label):\n",
    "    bins = []\n",
    "    array = np.stack([column, label]).T\n",
    "    array = array[array[:, 0].argsort()]\n",
    "    bins.append(array[0, 0] - 1e-10)\n",
    "    current_class = array[0, 1]\n",
    "    for i in range(1, array.shape[0]):\n",
    "        if array[i, 1] != current_class:\n",
    "            bins.append((array[i, 0] + array[i - 1, 0]) / 2)\n",
    "            current_class = array[i, 1]\n",
    "    bins.append(array[-1, 0] + 1e-10)\n",
    "    bins = np.unique(bins)\n",
    "    return bins"
   ]
  },
  {
   "cell_type": "markdown",
   "id": "33b5eb79",
   "metadata": {},
   "source": [
    "### `entropy` criterion"
   ]
  },
  {
   "cell_type": "code",
   "execution_count": 56,
   "id": "3e6a146b",
   "metadata": {},
   "outputs": [
    {
     "name": "stdout",
     "output_type": "stream",
     "text": [
      "Accuracy=0.8684, Precision=0.8824, Recall=0.7317, F1=0.8\n"
     ]
    },
    {
     "data": {
      "image/png": "[encoded data removed]",
      "text/plain": [
       "<Figure size 432x288 with 2 Axes>"
      ]
     },
     "metadata": {
      "needs_background": "light"
     },
     "output_type": "display_data"
    }
   ],
   "source": [
    "X = df.iloc[:, 1:]\n",
    "y = df.iloc[:, 0]\n",
    "\n",
    "x_train, x_test, y_train, y_test = train_test_split(X, y, test_size=0.2, random_state=4)\n",
    "\n",
    "bins = []\n",
    "for c in x_train.columns:\n",
    "    bins.append(sort_cut(x_train[c], y_train))\n",
    "    x_train[c] = pd.cut(x_train[c], bins[-1])\n",
    "\n",
    "my_tree = DecisionTree()\n",
    "my_tree.fit(x_train.to_numpy(), y_train.to_numpy())\n",
    "\n",
    "for idx, c in enumerate(x_test.columns):\n",
    "    x_test[c] = pd.cut(x_test[c], bins[idx])\n",
    "\n",
    "y_pred = my_tree.predict(x_test.to_numpy())\n",
    "\n",
    "evaluation(y_pred, y_test, pos_label='M')"
   ]
  },
  {
   "cell_type": "markdown",
   "id": "d142fa91",
   "metadata": {},
   "source": [
    "### `gini` criterion"
   ]
  },
  {
   "cell_type": "code",
   "execution_count": 67,
   "id": "827f09be",
   "metadata": {},
   "outputs": [
    {
     "name": "stdout",
     "output_type": "stream",
     "text": [
      "Accuracy=0.8684, Precision=0.8824, Recall=0.7317, F1=0.8\n"
     ]
    },
    {
     "data": {
      "text/plain": [
       "<Figure size 432x288 with 0 Axes>"
      ]
     },
     "metadata": {},
     "output_type": "display_data"
    },
    {
     "data": {
      "image/png": "[encoded data removed]",
      "text/plain": [
       "<Figure size 432x288 with 2 Axes>"
      ]
     },
     "metadata": {
      "needs_background": "light"
     },
     "output_type": "display_data"
    }
   ],
   "source": [
    "X = df.iloc[:, 1:]\n",
    "y = df.iloc[:, 0]\n",
    "\n",
    "x_train, x_test, y_train, y_test = train_test_split(X, y, test_size=0.2, random_state=4)\n",
    "\n",
    "bins = []\n",
    "for c in x_train.columns:\n",
    "    bins.append(sort_cut(x_train[c], y_train))\n",
    "    x_train[c] = pd.cut(x_train[c], bins[-1])\n",
    "\n",
    "my_tree = DecisionTree(criterion='gini')\n",
    "my_tree.fit(x_train.to_numpy(), y_train.to_numpy())\n",
    "\n",
    "for idx, c in enumerate(x_test.columns):\n",
    "    x_test[c] = pd.cut(x_test[c], bins[idx])\n",
    "\n",
    "y_pred = my_tree.predict(x_test.to_numpy())\n",
    "\n",
    "evaluation(y_pred, y_test, pos_label='M')"
   ]
  },
  {
   "cell_type": "markdown",
   "id": "248be023",
   "metadata": {},
   "source": [
    "# Sklearn results"
   ]
  },
  {
   "cell_type": "markdown",
   "id": "1637fdc7",
   "metadata": {},
   "source": [
    "### `entropy` criterion"
   ]
  },
  {
   "cell_type": "code",
   "execution_count": 68,
   "id": "9271caae",
   "metadata": {},
   "outputs": [
    {
     "name": "stdout",
     "output_type": "stream",
     "text": [
      "Accuracy=0.8772, Precision=0.9412, Recall=0.7273, F1=0.8205\n"
     ]
    },
    {
     "data": {
      "text/plain": [
       "<Figure size 432x288 with 0 Axes>"
      ]
     },
     "metadata": {},
     "output_type": "display_data"
    },
    {
     "data": {
      "image/png": "[encoded data removed]",
      "text/plain": [
       "<Figure size 432x288 with 2 Axes>"
      ]
     },
     "metadata": {
      "needs_background": "light"
     },
     "output_type": "display_data"
    }
   ],
   "source": [
    "X = df.iloc[:, 1:]\n",
    "y = df.iloc[:, 0]\n",
    "    \n",
    "x_train, x_test, y_train, y_test = train_test_split(X.to_numpy(), y.to_numpy(), test_size=0.2, random_state=4)\n",
    "\n",
    "sk_tree = DecisionTreeClassifier(criterion='entropy')\n",
    "sk_tree.fit(x_train, y_train)\n",
    "y_pred = sk_tree.predict(x_test)\n",
    "evaluation(y_pred, y_test, pos_label='M')"
   ]
  },
  {
   "cell_type": "markdown",
   "id": "ed620fa6",
   "metadata": {},
   "source": [
    "### `gini` criterion"
   ]
  },
  {
   "cell_type": "code",
   "execution_count": 69,
   "id": "c1c80d6e",
   "metadata": {},
   "outputs": [
    {
     "name": "stdout",
     "output_type": "stream",
     "text": [
      "Accuracy=0.9386, Precision=1.0, Recall=0.8293, F1=0.9067\n"
     ]
    },
    {
     "data": {
      "text/plain": [
       "<Figure size 432x288 with 0 Axes>"
      ]
     },
     "metadata": {},
     "output_type": "display_data"
    },
    {
     "data": {
      "image/png": "[encoded data removed]",
      "text/plain": [
       "<Figure size 432x288 with 2 Axes>"
      ]
     },
     "metadata": {
      "needs_background": "light"
     },
     "output_type": "display_data"
    }
   ],
   "source": [
    "sk_tree = DecisionTreeClassifier(criterion='gini')\n",
    "sk_tree.fit(x_train, y_train)\n",
    "y_pred = sk_tree.predict(x_test)\n",
    "evaluation(y_pred, y_test, pos_label='M')"
   ]
  }
 ],
 "metadata": {
  "kernelspec": {
   "display_name": "Python 3 (ipykernel)",
   "language": "python",
   "name": "python3"
  },
  "language_info": {
   "codemirror_mode": {
    "name": "ipython",
    "version": 3
   },
   "file_extension": ".py",
   "mimetype": "text/x-python",
   "name": "python",
   "nbconvert_exporter": "python",
   "pygments_lexer": "ipython3",
   "version": "3.9.7"
  }
 },
 "nbformat": 4,
 "nbformat_minor": 5
}
